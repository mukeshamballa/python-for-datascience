{
  "nbformat": 4,
  "nbformat_minor": 0,
  "metadata": {
    "colab": {
      "name": "Introduction in Python(23/2/2020).ipynb",
      "provenance": [],
      "authorship_tag": "ABX9TyPWVd8m3R/WY4hH8v38JW8z",
      "include_colab_link": true
    },
    "kernelspec": {
      "name": "python3",
      "display_name": "Python 3"
    }
  },
  "cells": [
    {
      "cell_type": "markdown",
      "metadata": {
        "id": "view-in-github",
        "colab_type": "text"
      },
      "source": [
        "<a href=\"https://colab.research.google.com/github/mukeshamballa/python-for-datascience/blob/master/Introduction_in_Python(23_2_2020).ipynb\" target=\"_parent\"><img src=\"https://colab.research.google.com/assets/colab-badge.svg\" alt=\"Open In Colab\"/></a>"
      ]
    },
    {
      "cell_type": "code",
      "metadata": {
        "id": "UuTdH2kVQKhu",
        "colab_type": "code",
        "colab": {}
      },
      "source": [
        ""
      ],
      "execution_count": 0,
      "outputs": []
    },
    {
      "cell_type": "markdown",
      "metadata": {
        "id": "39Pa-shfQXQF",
        "colab_type": "text"
      },
      "source": [
        "This is my first jupyter"
      ]
    },
    {
      "cell_type": "code",
      "metadata": {
        "id": "TOx-fGSCQa4I",
        "colab_type": "code",
        "colab": {
          "base_uri": "https://localhost:8080/",
          "height": 163
        },
        "outputId": "3286f95c-cac7-4506-cdd3-2203f5e57c08"
      },
      "source": [
        "hello"
      ],
      "execution_count": 1,
      "outputs": [
        {
          "output_type": "error",
          "ename": "NameError",
          "evalue": "ignored",
          "traceback": [
            "\u001b[0;31m---------------------------------------------------------------------------\u001b[0m",
            "\u001b[0;31mNameError\u001b[0m                                 Traceback (most recent call last)",
            "\u001b[0;32m<ipython-input-1-f572d396fae9>\u001b[0m in \u001b[0;36m<module>\u001b[0;34m()\u001b[0m\n\u001b[0;32m----> 1\u001b[0;31m \u001b[0mhello\u001b[0m\u001b[0;34m\u001b[0m\u001b[0;34m\u001b[0m\u001b[0m\n\u001b[0m",
            "\u001b[0;31mNameError\u001b[0m: name 'hello' is not defined"
          ]
        }
      ]
    },
    {
      "cell_type": "code",
      "metadata": {
        "id": "iW4Gn1PQQb_d",
        "colab_type": "code",
        "colab": {}
      },
      "source": [
        "name= \"mukesh\""
      ],
      "execution_count": 0,
      "outputs": []
    },
    {
      "cell_type": "code",
      "metadata": {
        "id": "Ajx6fE9JQifJ",
        "colab_type": "code",
        "colab": {
          "base_uri": "https://localhost:8080/",
          "height": 34
        },
        "outputId": "cc61b7b9-00c3-4eb1-aaf2-89b24f4bf827"
      },
      "source": [
        "name"
      ],
      "execution_count": 3,
      "outputs": [
        {
          "output_type": "execute_result",
          "data": {
            "text/plain": [
              "'mukesh'"
            ]
          },
          "metadata": {
            "tags": []
          },
          "execution_count": 3
        }
      ]
    },
    {
      "cell_type": "code",
      "metadata": {
        "id": "VEqwmalbQjfM",
        "colab_type": "code",
        "colab": {}
      },
      "source": [
        "#form of number\n",
        "age= 27"
      ],
      "execution_count": 0,
      "outputs": []
    },
    {
      "cell_type": "code",
      "metadata": {
        "id": "r8Ye2KTuRSjH",
        "colab_type": "code",
        "colab": {
          "base_uri": "https://localhost:8080/",
          "height": 34
        },
        "outputId": "69ddc752-7a15-4c82-e41f-49204cce23f5"
      },
      "source": [
        "age"
      ],
      "execution_count": 5,
      "outputs": [
        {
          "output_type": "execute_result",
          "data": {
            "text/plain": [
              "27"
            ]
          },
          "metadata": {
            "tags": []
          },
          "execution_count": 5
        }
      ]
    },
    {
      "cell_type": "code",
      "metadata": {
        "id": "xveF-xhYRT47",
        "colab_type": "code",
        "colab": {}
      },
      "source": [
        "Age = 27"
      ],
      "execution_count": 0,
      "outputs": []
    },
    {
      "cell_type": "code",
      "metadata": {
        "id": "S6bs0ZYBRvVz",
        "colab_type": "code",
        "colab": {
          "base_uri": "https://localhost:8080/",
          "height": 34
        },
        "outputId": "70fe9222-3d31-437f-d9e8-2cba7eaabe5b"
      },
      "source": [
        "Age"
      ],
      "execution_count": 7,
      "outputs": [
        {
          "output_type": "execute_result",
          "data": {
            "text/plain": [
              "27"
            ]
          },
          "metadata": {
            "tags": []
          },
          "execution_count": 7
        }
      ]
    },
    {
      "cell_type": "code",
      "metadata": {
        "id": "kO4DncWGRwZc",
        "colab_type": "code",
        "colab": {
          "base_uri": "https://localhost:8080/",
          "height": 51
        },
        "outputId": "bfeea611-1e5a-48a4-b740-9ad8645cf01b"
      },
      "source": [
        "#print multiple variables\n",
        "\n",
        "print(name)\n",
        "print(age)"
      ],
      "execution_count": 8,
      "outputs": [
        {
          "output_type": "stream",
          "text": [
            "mukesh\n",
            "27\n"
          ],
          "name": "stdout"
        }
      ]
    },
    {
      "cell_type": "code",
      "metadata": {
        "id": "hp4ZzR8rSENs",
        "colab_type": "code",
        "colab": {
          "base_uri": "https://localhost:8080/",
          "height": 34
        },
        "outputId": "da1da8b4-c713-4915-b50c-cef825b2c4a7"
      },
      "source": [
        "print(name,age)"
      ],
      "execution_count": 9,
      "outputs": [
        {
          "output_type": "stream",
          "text": [
            "mukesh 27\n"
          ],
          "name": "stdout"
        }
      ]
    },
    {
      "cell_type": "code",
      "metadata": {
        "id": "Z4kLhDuOSM5D",
        "colab_type": "code",
        "colab": {}
      },
      "source": [
        "#boolen values (boolen value start with caps)\n",
        "male= True"
      ],
      "execution_count": 0,
      "outputs": []
    },
    {
      "cell_type": "code",
      "metadata": {
        "id": "xDTqbUaTTcLi",
        "colab_type": "code",
        "colab": {
          "base_uri": "https://localhost:8080/",
          "height": 34
        },
        "outputId": "2ccbcfa4-592e-4b50-806c-fc3f223db48e"
      },
      "source": [
        "male"
      ],
      "execution_count": 13,
      "outputs": [
        {
          "output_type": "execute_result",
          "data": {
            "text/plain": [
              "True"
            ]
          },
          "metadata": {
            "tags": []
          },
          "execution_count": 13
        }
      ]
    },
    {
      "cell_type": "code",
      "metadata": {
        "id": "rgCzJaYRTglQ",
        "colab_type": "code",
        "colab": {}
      },
      "source": [
        "#floating number\n",
        "percentage = 59.07"
      ],
      "execution_count": 0,
      "outputs": []
    },
    {
      "cell_type": "code",
      "metadata": {
        "id": "ojXUlM7DUIJ5",
        "colab_type": "code",
        "colab": {
          "base_uri": "https://localhost:8080/",
          "height": 34
        },
        "outputId": "d428c0df-a2ea-4a24-ac89-d574ddfb8486"
      },
      "source": [
        "percentage"
      ],
      "execution_count": 15,
      "outputs": [
        {
          "output_type": "execute_result",
          "data": {
            "text/plain": [
              "59.07"
            ]
          },
          "metadata": {
            "tags": []
          },
          "execution_count": 15
        }
      ]
    },
    {
      "cell_type": "markdown",
      "metadata": {
        "id": "MjwyXZyZUr_f",
        "colab_type": "text"
      },
      "source": [
        "List stores a group of values"
      ]
    },
    {
      "cell_type": "code",
      "metadata": {
        "id": "0SFkvx3dUKsc",
        "colab_type": "code",
        "colab": {}
      },
      "source": [
        "marks = [59.07, 64.17, 65, \"Mukesh Amballa\", True]"
      ],
      "execution_count": 0,
      "outputs": []
    },
    {
      "cell_type": "code",
      "metadata": {
        "id": "LgKfNadeexfN",
        "colab_type": "code",
        "colab": {
          "base_uri": "https://localhost:8080/",
          "height": 34
        },
        "outputId": "129a0c2f-414f-428f-9278-d55cdc7f70b9"
      },
      "source": [
        "#print out the length of list marks\n",
        "len(marks)"
      ],
      "execution_count": 30,
      "outputs": [
        {
          "output_type": "execute_result",
          "data": {
            "text/plain": [
              "5"
            ]
          },
          "metadata": {
            "tags": []
          },
          "execution_count": 30
        }
      ]
    },
    {
      "cell_type": "code",
      "metadata": {
        "id": "KSh6xmwqVK8Y",
        "colab_type": "code",
        "colab": {
          "base_uri": "https://localhost:8080/",
          "height": 34
        },
        "outputId": "c18cc0c3-76a6-452a-ad96-20a7f4ea072b"
      },
      "source": [
        "marks"
      ],
      "execution_count": 19,
      "outputs": [
        {
          "output_type": "execute_result",
          "data": {
            "text/plain": [
              "[59.07, 64.17, 65, 'Mukesh Amballa', True]"
            ]
          },
          "metadata": {
            "tags": []
          },
          "execution_count": 19
        }
      ]
    },
    {
      "cell_type": "code",
      "metadata": {
        "id": "l-hCSyDVVNGg",
        "colab_type": "code",
        "colab": {
          "base_uri": "https://localhost:8080/",
          "height": 34
        },
        "outputId": "6e8768bc-48f1-4e27-eb68-29f75a861b20"
      },
      "source": [
        "marks[3]"
      ],
      "execution_count": 20,
      "outputs": [
        {
          "output_type": "execute_result",
          "data": {
            "text/plain": [
              "'Mukesh Amballa'"
            ]
          },
          "metadata": {
            "tags": []
          },
          "execution_count": 20
        }
      ]
    },
    {
      "cell_type": "markdown",
      "metadata": {
        "id": "X9CHUK8PaKSZ",
        "colab_type": "text"
      },
      "source": [
        "For list [] and dictionary {}"
      ]
    },
    {
      "cell_type": "code",
      "metadata": {
        "id": "AqqGCgdgWJVl",
        "colab_type": "code",
        "colab": {}
      },
      "source": [
        "#Create a Dictionary\n",
        "education= {\"tenth\": 59.07, \"twelve\": 64.17, \"graduation\": 65, \"name\": \"Mukesh Amballa\", \"male\": True}"
      ],
      "execution_count": 0,
      "outputs": []
    },
    {
      "cell_type": "code",
      "metadata": {
        "id": "p41H-fVhYZhn",
        "colab_type": "code",
        "colab": {
          "base_uri": "https://localhost:8080/",
          "height": 102
        },
        "outputId": "22b5c1e6-f0bd-4736-c2e9-658876c68dac"
      },
      "source": [
        "education"
      ],
      "execution_count": 22,
      "outputs": [
        {
          "output_type": "execute_result",
          "data": {
            "text/plain": [
              "{'graduation': 65,\n",
              " 'male': True,\n",
              " 'name': 'Mukesh Amballa',\n",
              " 'tenth': 59.07,\n",
              " 'twelve': 64.17}"
            ]
          },
          "metadata": {
            "tags": []
          },
          "execution_count": 22
        }
      ]
    },
    {
      "cell_type": "code",
      "metadata": {
        "id": "Gph4lmdWYcNp",
        "colab_type": "code",
        "colab": {
          "base_uri": "https://localhost:8080/",
          "height": 163
        },
        "outputId": "9706f06a-47bd-4864-c5c8-5e4c3359a8c4"
      },
      "source": [
        "education[3]"
      ],
      "execution_count": 23,
      "outputs": [
        {
          "output_type": "error",
          "ename": "KeyError",
          "evalue": "ignored",
          "traceback": [
            "\u001b[0;31m---------------------------------------------------------------------------\u001b[0m",
            "\u001b[0;31mKeyError\u001b[0m                                  Traceback (most recent call last)",
            "\u001b[0;32m<ipython-input-23-8321f2753498>\u001b[0m in \u001b[0;36m<module>\u001b[0;34m()\u001b[0m\n\u001b[0;32m----> 1\u001b[0;31m \u001b[0meducation\u001b[0m\u001b[0;34m[\u001b[0m\u001b[0;36m3\u001b[0m\u001b[0;34m]\u001b[0m\u001b[0;34m\u001b[0m\u001b[0;34m\u001b[0m\u001b[0m\n\u001b[0m",
            "\u001b[0;31mKeyError\u001b[0m: 3"
          ]
        }
      ]
    },
    {
      "cell_type": "code",
      "metadata": {
        "id": "brOl1cVEZOJN",
        "colab_type": "code",
        "colab": {
          "base_uri": "https://localhost:8080/",
          "height": 34
        },
        "outputId": "012ac036-a673-4885-bfbf-3fa8deaae2cd"
      },
      "source": [
        "#selecting an item from a dictionary\n",
        "#print only your 10th grade\n",
        "\n",
        "education['tenth']"
      ],
      "execution_count": 24,
      "outputs": [
        {
          "output_type": "execute_result",
          "data": {
            "text/plain": [
              "59.07"
            ]
          },
          "metadata": {
            "tags": []
          },
          "execution_count": 24
        }
      ]
    },
    {
      "cell_type": "code",
      "metadata": {
        "id": "TsSAxZRyZqJo",
        "colab_type": "code",
        "colab": {
          "base_uri": "https://localhost:8080/",
          "height": 34
        },
        "outputId": "6a528204-b27a-4ccb-ebef-b3ed8a2bcda9"
      },
      "source": [
        "#print only keys\n",
        "#it will return a list of values\n",
        "education.keys()"
      ],
      "execution_count": 25,
      "outputs": [
        {
          "output_type": "execute_result",
          "data": {
            "text/plain": [
              "dict_keys(['tenth', 'twelve', 'graduation', 'name', 'male'])"
            ]
          },
          "metadata": {
            "tags": []
          },
          "execution_count": 25
        }
      ]
    },
    {
      "cell_type": "code",
      "metadata": {
        "id": "VXulHTr_Z7aX",
        "colab_type": "code",
        "colab": {}
      },
      "source": [
        "#Make a dictionary containing a list of marks of 3 students\n",
        "\n",
        "students = {'stu1':[59, 69, 79],\n",
        "            'stu2':[45.7, 55.7, 67.7],\n",
        "            'stu3':[75.8, 57, 69.9]}"
      ],
      "execution_count": 0,
      "outputs": []
    },
    {
      "cell_type": "code",
      "metadata": {
        "id": "5qMjTjHacwcA",
        "colab_type": "code",
        "colab": {
          "base_uri": "https://localhost:8080/",
          "height": 34
        },
        "outputId": "ab21f438-6fa8-4133-b4e3-53ebeafbd619"
      },
      "source": [
        "#print the marks for students 2 (only graduationa score)\n",
        "students['stu2'][2]"
      ],
      "execution_count": 28,
      "outputs": [
        {
          "output_type": "execute_result",
          "data": {
            "text/plain": [
              "67.7"
            ]
          },
          "metadata": {
            "tags": []
          },
          "execution_count": 28
        }
      ]
    },
    {
      "cell_type": "code",
      "metadata": {
        "id": "sk6flBxyd3H6",
        "colab_type": "code",
        "colab": {
          "base_uri": "https://localhost:8080/",
          "height": 34
        },
        "outputId": "4d4e33df-863e-4f2f-8c7e-eb0f57dd70f4"
      },
      "source": [
        "#print the marks for students 2 (only graduationa score)\n",
        "students['stu2'][-1]"
      ],
      "execution_count": 29,
      "outputs": [
        {
          "output_type": "execute_result",
          "data": {
            "text/plain": [
              "67.7"
            ]
          },
          "metadata": {
            "tags": []
          },
          "execution_count": 29
        }
      ]
    },
    {
      "cell_type": "code",
      "metadata": {
        "id": "NTp4_SOVbuim",
        "colab_type": "code",
        "colab": {}
      },
      "source": [
        "#make a list containing a dictionary\n",
        "\n",
        "friends = [{'name':\"mukesh\", 'age':27}, {'name':'nilesh', 'age': 28}]"
      ],
      "execution_count": 0,
      "outputs": []
    },
    {
      "cell_type": "code",
      "metadata": {
        "id": "FfNbsbBWcqyc",
        "colab_type": "code",
        "colab": {
          "base_uri": "https://localhost:8080/",
          "height": 34
        },
        "outputId": "435e64db-165b-4bf8-93b3-ffe91bbe0794"
      },
      "source": [
        "#find out the type of data for variable friends\n",
        "type(friends)"
      ],
      "execution_count": 32,
      "outputs": [
        {
          "output_type": "execute_result",
          "data": {
            "text/plain": [
              "list"
            ]
          },
          "metadata": {
            "tags": []
          },
          "execution_count": 32
        }
      ]
    },
    {
      "cell_type": "code",
      "metadata": {
        "id": "r3HHkigegH9A",
        "colab_type": "code",
        "colab": {}
      },
      "source": [
        "mark = 'string'"
      ],
      "execution_count": 0,
      "outputs": []
    },
    {
      "cell_type": "code",
      "metadata": {
        "id": "KyWSaZLAiO7C",
        "colab_type": "code",
        "colab": {
          "base_uri": "https://localhost:8080/",
          "height": 34
        },
        "outputId": "13861fae-6844-418c-a01a-6b8a62b3ccf8"
      },
      "source": [
        "type(mark)"
      ],
      "execution_count": 36,
      "outputs": [
        {
          "output_type": "execute_result",
          "data": {
            "text/plain": [
              "str"
            ]
          },
          "metadata": {
            "tags": []
          },
          "execution_count": 36
        }
      ]
    },
    {
      "cell_type": "code",
      "metadata": {
        "id": "gVOj-nH_iRKf",
        "colab_type": "code",
        "colab": {}
      },
      "source": [
        "#create a new list with names of 3 friends, print it and add forth friend\n",
        "my_friends=['mukesh','nilesh','shailesh']"
      ],
      "execution_count": 0,
      "outputs": []
    },
    {
      "cell_type": "code",
      "metadata": {
        "id": "sjDkf1Zki0CA",
        "colab_type": "code",
        "colab": {
          "base_uri": "https://localhost:8080/",
          "height": 34
        },
        "outputId": "3c8728ec-68af-49a7-f3fe-454e8ad90bf8"
      },
      "source": [
        "my_friends"
      ],
      "execution_count": 38,
      "outputs": [
        {
          "output_type": "execute_result",
          "data": {
            "text/plain": [
              "['mukesh', 'nilesh', 'shailesh']"
            ]
          },
          "metadata": {
            "tags": []
          },
          "execution_count": 38
        }
      ]
    },
    {
      "cell_type": "code",
      "metadata": {
        "id": "aDZPX3sGi3-x",
        "colab_type": "code",
        "colab": {}
      },
      "source": [
        "#For addition use append\n",
        "my_friends.append('sagar')"
      ],
      "execution_count": 0,
      "outputs": []
    },
    {
      "cell_type": "code",
      "metadata": {
        "id": "xPSXvGjojLSZ",
        "colab_type": "code",
        "colab": {
          "base_uri": "https://localhost:8080/",
          "height": 34
        },
        "outputId": "195cf018-68d9-4373-992f-176e06217254"
      },
      "source": [
        "my_friends"
      ],
      "execution_count": 40,
      "outputs": [
        {
          "output_type": "execute_result",
          "data": {
            "text/plain": [
              "['mukesh', 'nilesh', 'shailesh', 'sagar']"
            ]
          },
          "metadata": {
            "tags": []
          },
          "execution_count": 40
        }
      ]
    },
    {
      "cell_type": "code",
      "metadata": {
        "id": "g1QpBOtQjO6G",
        "colab_type": "code",
        "colab": {}
      },
      "source": [
        "friends.append({'name': 'Shailesh', 'age': 30})"
      ],
      "execution_count": 0,
      "outputs": []
    },
    {
      "cell_type": "code",
      "metadata": {
        "id": "cdxX9I-WkJdr",
        "colab_type": "code",
        "colab": {
          "base_uri": "https://localhost:8080/",
          "height": 68
        },
        "outputId": "d50f9a1a-c7fa-483c-b356-93e6989325dc"
      },
      "source": [
        "friends"
      ],
      "execution_count": 42,
      "outputs": [
        {
          "output_type": "execute_result",
          "data": {
            "text/plain": [
              "[{'age': 27, 'name': 'mukesh'},\n",
              " {'age': 28, 'name': 'nilesh'},\n",
              " {'age': 30, 'name': 'Shailesh'}]"
            ]
          },
          "metadata": {
            "tags": []
          },
          "execution_count": 42
        }
      ]
    },
    {
      "cell_type": "code",
      "metadata": {
        "id": "UGUAaK3_kKyo",
        "colab_type": "code",
        "colab": {}
      },
      "source": [
        "#replace \n",
        "my_friends[0]= 'nilesh'"
      ],
      "execution_count": 0,
      "outputs": []
    },
    {
      "cell_type": "code",
      "metadata": {
        "id": "MYH99wStlArc",
        "colab_type": "code",
        "colab": {
          "base_uri": "https://localhost:8080/",
          "height": 34
        },
        "outputId": "716f23f5-7727-4f17-b846-4690435fb5b3"
      },
      "source": [
        "my_friends"
      ],
      "execution_count": 44,
      "outputs": [
        {
          "output_type": "execute_result",
          "data": {
            "text/plain": [
              "['nilesh', 'nilesh', 'shailesh', 'sagar']"
            ]
          },
          "metadata": {
            "tags": []
          },
          "execution_count": 44
        }
      ]
    },
    {
      "cell_type": "code",
      "metadata": {
        "id": "6UTqFQbNlCaY",
        "colab_type": "code",
        "colab": {}
      },
      "source": [
        "my_friends[0]='mukesh'"
      ],
      "execution_count": 0,
      "outputs": []
    },
    {
      "cell_type": "code",
      "metadata": {
        "id": "nUisNsyMlPJv",
        "colab_type": "code",
        "colab": {
          "base_uri": "https://localhost:8080/",
          "height": 34
        },
        "outputId": "80725141-7609-4e7a-d568-e4510f95172c"
      },
      "source": [
        "my_friends"
      ],
      "execution_count": 46,
      "outputs": [
        {
          "output_type": "execute_result",
          "data": {
            "text/plain": [
              "['mukesh', 'nilesh', 'shailesh', 'sagar']"
            ]
          },
          "metadata": {
            "tags": []
          },
          "execution_count": 46
        }
      ]
    },
    {
      "cell_type": "code",
      "metadata": {
        "id": "pZ1-c1vhlRQH",
        "colab_type": "code",
        "colab": {}
      },
      "source": [
        ""
      ],
      "execution_count": 0,
      "outputs": []
    }
  ]
}